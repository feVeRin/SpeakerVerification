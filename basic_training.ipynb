{
 "cells": [
  {
   "cell_type": "code",
   "execution_count": null,
   "metadata": {},
   "outputs": [],
   "source": [
    "import yaml\n",
    "from validation import *\n",
    "from train import train"
   ]
  },
  {
   "cell_type": "markdown",
   "metadata": {},
   "source": [
    "Setting"
   ]
  },
  {
   "cell_type": "code",
   "execution_count": null,
   "metadata": {},
   "outputs": [],
   "source": [
    "with open('./configs/K_NeXt_TDNN.yaml') as file:\n",
    "    config = yaml.safe_load(file)\n",
    "\n",
    "BATCH_SIZE = config['PARAMS']['BATCH_SIZE']\n",
    "BASE_LR = float(config['PARAMS']['BASE_LR'])\n",
    "NUM_WORKER = config['PARAMS']['NUM_WORKER']\n",
    "CHANNEL_SIZE = config['PARAMS']['CHANNEL_SIZE']\n",
    "EMBEDDING_SIZE = config['PARAMS']['EMBEDDING_SIZE']\n",
    "MAX_FRAME = config['PARAMS']['MAX_FRAME']\n",
    "SAMPLING_RATE = config['PARAMS']['SAMPLING_RATE']\n",
    "MAX_EPOCH = config['PARAMS']['MAX_EPOCH']\n",
    "DEVICE = config['PARAMS']['DEVICE']\n",
    "BASE_PATH = config['PARAMS']['BASE_PATH']"
   ]
  },
  {
   "cell_type": "markdown",
   "metadata": {},
   "source": [
    "Model training from scratch"
   ]
  },
  {
   "cell_type": "code",
   "execution_count": null,
   "metadata": {},
   "outputs": [],
   "source": [
    "train(config, MAX_EPOCH, BATCH_SIZE, NUM_WORKER, BASE_LR, BASE_PATH, DEVICE)"
   ]
  },
  {
   "cell_type": "markdown",
   "metadata": {},
   "source": [
    "Model training from the checkpoint"
   ]
  },
  {
   "cell_type": "code",
   "execution_count": null,
   "metadata": {},
   "outputs": [
    {
     "name": "stdout",
     "output_type": "stream",
     "text": [
      "Setting Train Dataset...\n",
      "Read pkl...\n",
      "\n",
      "====== Dataset Load Info ======\n",
      "Number of speakers : 1471\n",
      "Number of utterances : 5875802\n",
      "\n",
      "<class 'pandas.core.frame.DataFrame'>\n",
      "RangeIndex: 5875802 entries, 0 to 5875801\n",
      "Data columns (total 3 columns):\n",
      " #   Column    Dtype \n",
      "---  ------    ----- \n",
      " 0   wavfiles  object\n",
      " 1   labels    int64 \n",
      " 2   speakers  object\n",
      "dtypes: int64(1), object(2)\n",
      "memory usage: 134.5+ MB\n",
      "None\n",
      "===============================\n",
      "\n",
      "Setting Model...\n",
      "Initialised AAMSoftmax margin 0.300 scale 40.000\n",
      "⚡ feature_extractor ⚡\n",
      "Mel_Spectrogram(\n",
      "  (pre_emphasis): PreEmphasis()\n",
      "  (mel_spectrogram): MelSpectrogram(\n",
      "    (spectrogram): Spectrogram()\n",
      "    (mel_scale): MelScale()\n",
      "  )\n",
      ")\n",
      "⚡ spec_aug ⚡\n",
      "SpecAugment(\n",
      "  (fm): FrequencyMasking()\n",
      "  (tm): TimeMasking()\n",
      ")\n",
      "⚡ model ⚡\n",
      "NeXtTDNN(\n",
      "  (stem): ModuleList(\n",
      "    (0): Sequential(\n",
      "      (0): Conv1d(80, 192, kernel_size=(4,), stride=(1,))\n",
      "      (1): LayerNorm()\n",
      "    )\n",
      "  )\n",
      "  (stages): ModuleList(\n",
      "    (0-2): 3 x Sequential(\n",
      "      (0): TSConvNeXt_light(\n",
      "        (dwconv): Conv1d(192, 192, kernel_size=(65,), stride=(1,), padding=(32,), groups=192)\n",
      "        (norm): LayerNorm()\n",
      "        (pwconv1): Linear(in_features=192, out_features=768, bias=True)\n",
      "        (act): GELU(approximate='none')\n",
      "        (grn): GRN()\n",
      "        (pwconv2): Linear(in_features=768, out_features=192, bias=True)\n",
      "        (drop_path): Identity()\n",
      "      )\n",
      "    )\n",
      "  )\n",
      "  (MFA): Sequential(\n",
      "    (0): Conv1d(576, 576, kernel_size=(1,), stride=(1,))\n",
      "    (1): LayerNorm()\n",
      "  )\n",
      ")\n",
      "⚡ aggregation ⚡\n",
      "VAP_BN_FC_BN(\n",
      "  (conv_1): Conv1d(576, 72, kernel_size=(1,), stride=(1,))\n",
      "  (conv_2): Conv1d(72, 576, kernel_size=(1,), stride=(1,))\n",
      "  (bn1): BatchNorm1d(72, eps=1e-05, momentum=0.1, affine=True, track_running_stats=True)\n",
      "  (tanh): Tanh()\n",
      "  (bn2): BatchNorm1d(1152, eps=1e-05, momentum=0.1, affine=True, track_running_stats=True)\n",
      "  (fc): Linear(in_features=1152, out_features=192, bias=True)\n",
      "  (bn3): BatchNorm1d(192, eps=1e-05, momentum=0.1, affine=True, track_running_stats=True)\n",
      ")\n",
      "⚡ loss ⚡\n",
      "LossFunction(\n",
      "  (ce): CrossEntropyLoss()\n",
      ")\n",
      "Initialised AdamW optimizer\n",
      "Initialised step LR scheduler\n",
      "===============================\n",
      "\n",
      "Model Summary...\n"
     ]
    },
    {
     "name": "stderr",
     "output_type": "stream",
     "text": [
      "c:\\Users\\jwjln\\Desktop\\SV\\SpeakerVerification\\train.py:120: FutureWarning: You are using `torch.load` with `weights_only=False` (the current default value), which uses the default pickle module implicitly. It is possible to construct malicious pickle data which will execute arbitrary code during unpickling (See https://github.com/pytorch/pytorch/blob/main/SECURITY.md#untrusted-models for more details). In a future release, the default value for `weights_only` will be flipped to `True`. This limits the functions that could be executed during unpickling. Arbitrary objects will no longer be allowed to be loaded via this mode unless they are explicitly allowlisted by the user via `torch.serialization.add_safe_globals`. We recommend you start setting `weights_only=True` for any use case where you don't have full control of the loaded file. Please open an issue on GitHub for any issues related to this experimental feature.\n",
      "  checkpoint = torch.load(os.path.join(config['CHECKPOINT']['ckpt_path'], ckpt_name))\n"
     ]
    },
    {
     "name": "stdout",
     "output_type": "stream",
     "text": [
      "SpeakerNet(\n",
      "  1.63 M, 84.888% Params, 420.52 MMac, 98.346% MACs, \n",
      "  (feature_extractor): Mel_Spectrogram(\n",
      "    0, 0.000% Params, 0.0 Mac, 0.000% MACs, \n",
      "    (pre_emphasis): PreEmphasis(0, 0.000% Params, 0.0 Mac, 0.000% MACs, )\n",
      "    (mel_spectrogram): MelSpectrogram(\n",
      "      0, 0.000% Params, 0.0 Mac, 0.000% MACs, \n",
      "      (spectrogram): Spectrogram(0, 0.000% Params, 0.0 Mac, 0.000% MACs, )\n",
      "      (mel_scale): MelScale(0, 0.000% Params, 0.0 Mac, 0.000% MACs, )\n",
      "    )\n",
      "  )\n",
      "  (spec_aug): SpecAugment(\n",
      "    0, 0.000% Params, 0.0 Mac, 0.000% MACs, \n",
      "    (fm): FrequencyMasking(0, 0.000% Params, 0.0 Mac, 0.000% MACs, )\n",
      "    (tm): TimeMasking(0, 0.000% Params, 0.0 Mac, 0.000% MACs, )\n",
      "  )\n",
      "  (model): NeXtTDNN(\n",
      "    1.32 M, 68.832% Params, 395.25 MMac, 92.439% MACs, \n",
      "    (stem): ModuleList(\n",
      "      (0): Sequential(\n",
      "        61.63 k, 3.215% Params, 18.43 MMac, 4.310% MACs, \n",
      "        (0): Conv1d(61.63 k, 3.215% Params, 18.43 MMac, 4.310% MACs, 80, 192, kernel_size=(4,), stride=(1,))\n",
      "        (1): LayerNorm(0, 0.000% Params, 0.0 Mac, 0.000% MACs, )\n",
      "      )\n",
      "    )\n",
      "    (stages): ModuleList(\n",
      "      (0-2): 3 x Sequential(\n",
      "        308.54 k, 16.094% Params, 92.48 MMac, 21.629% MACs, \n",
      "        (0): TSConvNeXt_light(\n",
      "          308.54 k, 16.094% Params, 92.48 MMac, 21.629% MACs, \n",
      "          (dwconv): Conv1d(12.67 k, 0.661% Params, 3.79 MMac, 0.886% MACs, 192, 192, kernel_size=(65,), stride=(1,), padding=(32,), groups=192)\n",
      "          (norm): LayerNorm(0, 0.000% Params, 0.0 Mac, 0.000% MACs, )\n",
      "          (pwconv1): Linear(148.22 k, 7.732% Params, 44.32 MMac, 10.365% MACs, in_features=192, out_features=768, bias=True)\n",
      "          (act): GELU(0, 0.000% Params, 229.63 KMac, 0.054% MACs, approximate='none')\n",
      "          (grn): GRN(0, 0.000% Params, 0.0 Mac, 0.000% MACs, )\n",
      "          (pwconv2): Linear(147.65 k, 7.701% Params, 44.15 MMac, 10.325% MACs, in_features=768, out_features=192, bias=True)\n",
      "          (drop_path): Identity(0, 0.000% Params, 0.0 Mac, 0.000% MACs, )\n",
      "        )\n",
      "      )\n",
      "    )\n",
      "    (MFA): Sequential(\n",
      "      332.35 k, 17.336% Params, 99.37 MMac, 23.241% MACs, \n",
      "      (0): Conv1d(332.35 k, 17.336% Params, 99.37 MMac, 23.241% MACs, 576, 576, kernel_size=(1,), stride=(1,))\n",
      "      (1): LayerNorm(0, 0.000% Params, 0.0 Mac, 0.000% MACs, )\n",
      "    )\n",
      "  )\n",
      "  (aggregate): VAP_BN_FC_BN(\n",
      "    307.8 k, 16.055% Params, 25.26 MMac, 5.908% MACs, \n",
      "    (conv_1): Conv1d(41.54 k, 2.167% Params, 12.42 MMac, 2.905% MACs, 576, 72, kernel_size=(1,), stride=(1,))\n",
      "    (conv_2): Conv1d(42.05 k, 2.193% Params, 12.57 MMac, 2.940% MACs, 72, 576, kernel_size=(1,), stride=(1,))\n",
      "    (bn1): BatchNorm1d(144, 0.008% Params, 43.06 KMac, 0.010% MACs, 72, eps=1e-05, momentum=0.1, affine=True, track_running_stats=True)\n",
      "    (tanh): Tanh(0, 0.000% Params, 0.0 Mac, 0.000% MACs, )\n",
      "    (bn2): BatchNorm1d(2.3 k, 0.120% Params, 2.3 KMac, 0.001% MACs, 1152, eps=1e-05, momentum=0.1, affine=True, track_running_stats=True)\n",
      "    (fc): Linear(221.38 k, 11.547% Params, 221.38 KMac, 0.052% MACs, in_features=1152, out_features=192, bias=True)\n",
      "    (bn3): BatchNorm1d(384, 0.020% Params, 384.0 Mac, 0.000% MACs, 192, eps=1e-05, momentum=0.1, affine=True, track_running_stats=True)\n",
      "  )\n",
      "  (loss_function): LossFunction(\n",
      "    0, 0.000% Params, 0.0 Mac, 0.000% MACs, \n",
      "    (ce): CrossEntropyLoss(0, 0.000% Params, 0.0 Mac, 0.000% MACs, )\n",
      "  )\n",
      ")\n",
      "ptflops: MMac: 427.59, Params: 1.92\n",
      "thop: MMac: 418.415136, Params: 1.627416\n",
      "torchinfo: MMac: 155.27652, Params: 1.917144\n",
      "===============================\n",
      "\n",
      "Model Training...\n",
      "Load Previous Checkpoint..\n",
      "=== Epoch : 6 ===\n"
     ]
    },
    {
     "name": "stderr",
     "output_type": "stream",
     "text": [
      " 12%|█▏        | 1395/11476 [3:14:41<23:27:30,  8.38s/it, 1000 step loss : 6.088515281677246]"
     ]
    }
   ],
   "source": [
    "ckpt_name = 'ckpt_5.pt'\n",
    "train(config, MAX_EPOCH, BATCH_SIZE, NUM_WORKER, BASE_LR, BASE_PATH, DEVICE, ckpt=True, ckpt_name=ckpt_name)"
   ]
  }
 ],
 "metadata": {
  "kernelspec": {
   "display_name": "real",
   "language": "python",
   "name": "python3"
  },
  "language_info": {
   "codemirror_mode": {
    "name": "ipython",
    "version": 3
   },
   "file_extension": ".py",
   "mimetype": "text/x-python",
   "name": "python",
   "nbconvert_exporter": "python",
   "pygments_lexer": "ipython3",
   "version": "3.12.3"
  }
 },
 "nbformat": 4,
 "nbformat_minor": 2
}
